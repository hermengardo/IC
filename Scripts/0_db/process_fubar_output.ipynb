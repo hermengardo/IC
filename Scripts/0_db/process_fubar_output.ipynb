{
 "cells": [
  {
   "cell_type": "code",
   "execution_count": 4,
   "id": "79302377-8edb-49cf-a128-0af3841f0e01",
   "metadata": {},
   "outputs": [],
   "source": [
    "import gzip\n",
    "import json\n",
    "import re\n",
    "import numpy as np\n",
    "import os\n",
    "\n",
    "from concurrent.futures import ProcessPoolExecutor\n",
    "from needletail import parse_fastx_file"
   ]
  },
  {
   "cell_type": "code",
   "execution_count": 5,
   "id": "ff74c469-3c62-4cdd-a189-8760c1723263",
   "metadata": {},
   "outputs": [],
   "source": [
    "class processHandler:\n",
    "    def __init__(self, jobs=12):\n",
    "        self.jobs=jobs\n",
    "        self.create_output_folder()\n",
    "        self.inputs = self.read_inputs()\n",
    "        self.process()\n",
    "\n",
    "    def process(self) -> None:\n",
    "        with ProcessPoolExecutor(max_workers=self.jobs) as executor:\n",
    "            executor.map(processHandler.process_one_static, self.inputs)\n",
    "\n",
    "    def create_output_folder(self, path=\"processed\") -> None:\n",
    "        if not(os.path.isdir(path)):\n",
    "            os.mkdir(path)\n",
    "        return\n",
    "            \n",
    "    def read_inputs(self) -> list:\n",
    "        inputs = []\n",
    "        for filename in os.listdir('./output/'):\n",
    "            json_path = os.path.join('./output/', filename)\n",
    "            \n",
    "            fasta_name = re.sub(r\"\\.filtered\\.fubar\\.json$\", \".nt.filtered.fas\", filename)\n",
    "            fasta_path = os.path.join('./nt_tree_filtered/', fasta_name)\n",
    "            \n",
    "            output_name = re.sub(r\"\\.filtered\\.fubar\\.json$\", r\".processed.jsonl.gz\", filename)\n",
    "            output_path = os.path.join('./processed/', output_name)\n",
    "            \n",
    "            inputs.append((fasta_path, json_path, output_path))\n",
    "        return inputs\n",
    "        \n",
    "    @staticmethod\n",
    "    def codon_gap_mask(seq: str) -> tuple[np.ndarray, str]:\n",
    "        \"\"\"\n",
    "        Efficiently compute a boolean mask for codons that are not '---',\n",
    "        and return a filtered nucleotide sequence without those codons.\n",
    "    \n",
    "        Parameters:\n",
    "            seq (str): Input nucleotide sequence (length must be a multiple of 3).\n",
    "    \n",
    "        Returns:\n",
    "            tuple[np.ndarray, str]: Boolean mask array and filtered sequence string.\n",
    "        \"\"\"\n",
    "        n = len(seq)\n",
    "        if n % 3 != 0:\n",
    "            raise ValueError(\"Sequence length must be a multiple of 3.\")\n",
    "    \n",
    "        codon_count = n // 3\n",
    "        mask = np.empty(codon_count, dtype=bool)\n",
    "        filtered_seq = bytearray()  # faster than string join for many additions\n",
    "    \n",
    "        for i in range(codon_count):\n",
    "            j = i * 3\n",
    "            if seq[j : j + 3] != \"---\":\n",
    "                mask[i] = True\n",
    "                filtered_seq.extend(seq[j : j + 3].encode(\"ascii\"))\n",
    "            else:\n",
    "                mask[i] = False\n",
    "    \n",
    "        return mask, filtered_seq.decode(\"ascii\")\n",
    "\n",
    "    @staticmethod\n",
    "    def process_one_static(inputs: tuple[str, str, str]):\n",
    "        INPUT_FASTA, INPUT_JSON, OUTPUT_JSONL = inputs\n",
    "        with open(INPUT_JSON) as fi:\n",
    "            FUBAR_DATA = np.array(json.load(fi)[\"MLE\"][\"content\"][\"0\"])\n",
    "    \n",
    "        with gzip.open(OUTPUT_JSONL, \"wt\") as fo:\n",
    "            for record in parse_fastx_file(INPUT_FASTA):\n",
    "                mask, cleaned_seq = processHandler.codon_gap_mask(record.seq.upper())\n",
    "                masked_fubar = FUBAR_DATA[mask]\n",
    "                json.dump(\n",
    "                    {\n",
    "                        \"name\": record.name,\n",
    "                        \"sequence\": cleaned_seq,\n",
    "                        \"alpha\": masked_fubar[:, 0].tolist(),\n",
    "                        \"beta\": masked_fubar[:, 1].tolist(),\n",
    "                        \"Prob[alpha>beta]\": masked_fubar[:, 3].tolist(),\n",
    "                        \"Prob[alpha<beta]\": masked_fubar[:, 4].tolist(),\n",
    "                        \"BayesFactor[alpha<beta]\": masked_fubar[:, 5].tolist(),\n",
    "                    },\n",
    "                    fo,\n",
    "                )\n",
    "                fo.write(\"\\n\")"
   ]
  },
  {
   "cell_type": "code",
   "execution_count": 6,
   "id": "10f380b8-8cb8-46d6-ab2d-59076dee31d3",
   "metadata": {},
   "outputs": [
    {
     "data": {
      "text/plain": [
       "<__main__.processHandler at 0x7af3c099ae50>"
      ]
     },
     "execution_count": 6,
     "metadata": {},
     "output_type": "execute_result"
    }
   ],
   "source": [
    "processHandler()"
   ]
  },
  {
   "cell_type": "code",
   "execution_count": null,
   "id": "9fcf9869-4fee-4dfd-9a30-7c12429d48a3",
   "metadata": {},
   "outputs": [],
   "source": []
  }
 ],
 "metadata": {
  "kernelspec": {
   "display_name": "Python 3 (ipykernel)",
   "language": "python",
   "name": "python3"
  },
  "language_info": {
   "codemirror_mode": {
    "name": "ipython",
    "version": 3
   },
   "file_extension": ".py",
   "mimetype": "text/x-python",
   "name": "python",
   "nbconvert_exporter": "python",
   "pygments_lexer": "ipython3",
   "version": "3.9.23"
  }
 },
 "nbformat": 4,
 "nbformat_minor": 5
}
